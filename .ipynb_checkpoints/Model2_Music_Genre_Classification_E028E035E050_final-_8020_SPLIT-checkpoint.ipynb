{
 "cells": [
  {
   "cell_type": "markdown",
   "metadata": {},
   "source": [
    "# Installing necessary libraries \n",
    "(Librosa is used for audio data)"
   ]
  },
  {
   "cell_type": "code",
   "execution_count": null,
   "metadata": {},
   "outputs": [],
   "source": [
    "#!pip install librosa"
   ]
  },
  {
   "cell_type": "code",
   "execution_count": null,
   "metadata": {},
   "outputs": [],
   "source": [
    "#!pip install python_speech_features"
   ]
  },
  {
   "cell_type": "code",
   "execution_count": null,
   "metadata": {},
   "outputs": [],
   "source": [
    "#!pip install tensorflow"
   ]
  },
  {
   "cell_type": "code",
   "execution_count": null,
   "metadata": {},
   "outputs": [],
   "source": [
    "!pip install pydot"
   ]
  },
  {
   "cell_type": "code",
   "execution_count": null,
   "metadata": {},
   "outputs": [],
   "source": [
    "!pip install pydub"
   ]
  },
  {
   "cell_type": "markdown",
   "metadata": {},
   "source": [
    "# Importing Libraries"
   ]
  },
  {
   "cell_type": "code",
   "execution_count": 1,
   "metadata": {},
   "outputs": [],
   "source": [
    "import numpy as np \n",
    "import pandas as pd\n",
    "import os\n",
    "for dirname, _, filenames in os.walk('/kaggle/input'):\n",
    "    for filename in filenames:\n",
    "        print(os.path.join(dirname, filename))\n",
    "\n",
    "import matplotlib.pyplot as plt\n",
    "import matplotlib.cm as cm\n",
    "from matplotlib.colors import Normalize\n",
    "import scipy\n",
    "import seaborn as sns\n",
    "%matplotlib inline\n",
    "\n",
    "import librosa\n",
    "import librosa.display\n",
    "import IPython.display as ipd\n",
    "from IPython.display import Audio\n",
    "\n",
    "import warnings\n",
    "warnings.filterwarnings('ignore')\n",
    "\n",
    "import sklearn\n",
    "from sklearn.model_selection import train_test_split\n",
    "from sklearn.metrics import confusion_matrix\n",
    "from sklearn.preprocessing import LabelEncoder\n",
    "import tensorflow as tf\n",
    "from tensorflow import keras\n",
    "from python_speech_features import mfcc\n",
    "import random\n",
    "\n",
    "from scipy import misc\n",
    "import glob\n",
    "from PIL import Image\n",
    "from keras import layers\n",
    "from keras.layers import (Input, Add, Dense, Activation, ZeroPadding2D, BatchNormalization, Flatten, \n",
    "                          Conv2D, AveragePooling2D, MaxPooling2D, GlobalMaxPooling2D, Dropout)\n",
    "from keras.models import Model, load_model\n",
    "from keras.preprocessing import image\n",
    "from keras.utils import layer_utils\n",
    "import pydot\n",
    "from IPython.display import SVG\n",
    "from keras.utils.vis_utils import model_to_dot\n",
    "from keras.utils.vis_utils import plot_model\n",
    "from tensorflow.keras.optimizers import Adam\n",
    "from keras.initializers import glorot_uniform\n",
    "from matplotlib.backends.backend_agg import FigureCanvasAgg as FigureCanvas\n",
    "from pydub import AudioSegment\n",
    "import shutil\n",
    "from keras.preprocessing.image import ImageDataGenerator,load_img,img_to_array\n",
    "import random"
   ]
  },
  {
   "cell_type": "markdown",
   "metadata": {},
   "source": [
    "# Understanding Audio"
   ]
  },
  {
   "cell_type": "code",
   "execution_count": 9,
   "metadata": {},
   "outputs": [
    {
     "name": "stdout",
     "output_type": "stream",
     "text": [
      "y:  [-0.03775024 -0.07223511 -0.08242798 ...  0.02264404  0.00308228\n",
      " -0.0105896 ] \n",
      "\n",
      "y shape: (661794,) \n",
      "\n",
      "Sample Rate (KHz): 22050 \n",
      "\n",
      "Check Len of Audio: 30.013333333333332\n"
     ]
    }
   ],
   "source": [
    "\n",
    "# Importing 1 file\n",
    "y, sr = librosa.load(f'{location}/classical/classical.00024.wav')\n",
    "\n",
    "print('y: ', y, '\\n')\n",
    "print('y shape:', np.shape(y), '\\n')\n",
    "print('Sample Rate (KHz):', sr, '\\n')\n",
    "\n",
    "# Verify length of the audio\n",
    "print('Check Len of Audio:', 661794/22050)"
   ]
  },
  {
   "cell_type": "code",
   "execution_count": null,
   "metadata": {},
   "outputs": [],
   "source": [
    "df=df.drop(labels=\"filename\",axis=1)"
   ]
  },
  {
   "cell_type": "code",
   "execution_count": null,
   "metadata": {},
   "outputs": [],
   "source": [
    "audio_recording=\"C:/Users/Admin/Desktop/ML Project/Datasets/Train_Data/classical/classical.00024.wav\"\n",
    "data,sr=librosa.load(audio_recording)\n",
    "print(type(data),type(sr))"
   ]
  },
  {
   "cell_type": "code",
   "execution_count": null,
   "metadata": {},
   "outputs": [],
   "source": [
    "librosa.load(audio_recording,sr)"
   ]
  },
  {
   "cell_type": "markdown",
   "metadata": {},
   "source": [
    "# Playing Audio"
   ]
  },
  {
   "cell_type": "code",
   "execution_count": null,
   "metadata": {},
   "outputs": [],
   "source": [
    "import IPython\n",
    "IPython.display.Audio(data,rate=sr)"
   ]
  },
  {
   "cell_type": "markdown",
   "metadata": {},
   "source": [
    "# Waveforms\n",
    "Waveforms are visual representations of sound as time on the x-axis and amplitude on the y-axis. \n",
    "They are great for allowing us to quickly scan the audio data and visually compare and contrast which genres might be more similar than others."
   ]
  },
  {
   "cell_type": "code",
   "execution_count": null,
   "metadata": {},
   "outputs": [],
   "source": [
    "plt.figure(figsize=(12,4))\n",
    "librosa.display.waveplot(data,color=\"#A300F4\")\n",
    "plt.title(\"Sound Waves in Classical 24\", fontsize = 23);\n",
    "plt.show()"
   ]
  },
  {
   "cell_type": "markdown",
   "metadata": {},
   "source": [
    "# Spectrogram\n",
    "A spectrogram is a visual way of representing the signal loudness of a signal over time at various frequencies present in a particular waveform. Not only can one see whether there is more or less energy at, for example, 2 Hz vs 10 Hz, but one can also see how energy levels vary over time.\n",
    "Spectrograms are sometimes called sonographs, voiceprints, or voicegrams. When the data is represented in a 3D plot, they may be called waterfalls. In 2-dimensional arrays, the first axis is frequency while the second axis is time"
   ]
  },
  {
   "cell_type": "code",
   "execution_count": null,
   "metadata": {},
   "outputs": [],
   "source": [
    "stft=librosa.stft(data)\n",
    "stft_db=librosa.amplitude_to_db(abs(stft))\n",
    "plt.figure(figsize=(14,6))\n",
    "librosa.display.specshow(stft,sr=sr,x_axis='time',y_axis='hz')\n",
    "plt.colorbar()"
   ]
  },
  {
   "cell_type": "code",
   "execution_count": null,
   "metadata": {},
   "outputs": [],
   "source": [
    "stft=librosa.stft(data)\n",
    "stft_db=librosa.amplitude_to_db(abs(stft))\n",
    "plt.figure(figsize=(14,6))\n",
    "librosa.display.specshow(stft_db,sr=sr,x_axis='time',y_axis='hz')\n",
    "plt.colorbar()"
   ]
  },
  {
   "cell_type": "markdown",
   "metadata": {},
   "source": [
    "# Mel Spectrogram"
   ]
  },
  {
   "cell_type": "code",
   "execution_count": null,
   "metadata": {},
   "outputs": [],
   "source": [
    "mels = librosa.feature.melspectrogram(data)\n",
    "fig = plt.Figure()\n",
    "canvas = FigureCanvas(fig)\n",
    "p = plt.imshow(librosa.power_to_db(mels,ref=np.max))\n",
    "p"
   ]
  },
  {
   "cell_type": "markdown",
   "metadata": {},
   "source": [
    "# MFCC\n",
    "The Mel frequency cepstral coefficients (MFCCs) of a signal are a small set of features (usually about 10-20) that concisely describe the overall shape of a spectral envelope. It models the characteristics of the human voice.\n",
    "librosa.feature.mfcc computes MFCCs across an audio signal:"
   ]
  },
  {
   "cell_type": "code",
   "execution_count": null,
   "metadata": {},
   "outputs": [],
   "source": [
    "#using classical.00024.wav to display its MFCC\n",
    "x, fs = librosa.load(\"C:/Users/Admin/Desktop/ML Project/Datasets/Train_Data/classical/classical.00024.wav\")\n",
    "librosa.display.waveplot(x, sr=sr)\n",
    "mfccs = librosa.feature.mfcc(x, sr=fs)\n",
    "(13, 97)\n",
    "#Displaying  the MFCCs:\n",
    "librosa.display.specshow(mfccs, sr=sr, x_axis='time')"
   ]
  },
  {
   "cell_type": "markdown",
   "metadata": {},
   "source": [
    "# Spectral Rolloff\n",
    "Spectral Rolloff is the frequency below which a specified percentage of the total spectral energy, e.g. 85%, lies\n",
    "librosa.feature.spectral_rolloff computes the rolloff frequency for each frame in a signal.\n",
    "\n",
    "The roll-off frequency denotes the approximate low bass and high treble limits in a frequency response curve, with all frequencies between being those a speaker will play accurately"
   ]
  },
  {
   "cell_type": "code",
   "execution_count": null,
   "metadata": {},
   "outputs": [],
   "source": [
    "spectral_rolloff=librosa.feature.spectral_rolloff(data+0.01,sr=sr)[0]\n",
    "plt.figure(figsize=(14,6))\n",
    "librosa.display.waveplot(data,sr=sr,alpha=0.4,color=\"#2B4F72\")"
   ]
  },
  {
   "cell_type": "markdown",
   "metadata": {},
   "source": [
    "# Chroma Feature\n",
    "It's a useful tool for studying musical aspects whose pitches may be classified and whose tuning is close to the equal-tempered scale. Chromatic and melodic aspects of music are captured by chroma features, which are resistant to changes in timbre and instrumentation."
   ]
  },
  {
   "cell_type": "code",
   "execution_count": null,
   "metadata": {},
   "outputs": [],
   "source": [
    "import librosa.display as lplt\n",
    "chroma = librosa.feature.chroma_stft(data,sr=sr)\n",
    "plt.figure(figsize=(14,6))\n",
    "lplt.specshow(chroma,sr=sr,x_axis=\"time\",y_axis=\"chroma\",cmap=\"coolwarm\")\n",
    "plt.colorbar()\n",
    "plt.title(\"Chroma Features\")\n",
    "plt.show()"
   ]
  },
  {
   "cell_type": "markdown",
   "metadata": {},
   "source": [
    "# Zero Crossing\n",
    "Zero crossing is said to occur if successive samples have different algebraic signs. The rate at which zero-crossings occur is a simple measure of the frequency content of a signal. Zero-crossing rate is a measure of the number of times in a given time interval/frame that the amplitude of the speech signals passes through a value of zero."
   ]
  },
  {
   "cell_type": "code",
   "execution_count": null,
   "metadata": {},
   "outputs": [],
   "source": [
    "start=1000\n",
    "end=1200\n",
    "plt.figure(figsize=(12,4))\n",
    "plt.plot(data[start:end],color=\"#2B4F72\")\n",
    "plt.grid()"
   ]
  },
  {
   "cell_type": "code",
   "execution_count": null,
   "metadata": {},
   "outputs": [],
   "source": [
    "zero_cross_rate=librosa.zero_crossings(data[start:end],pad=False)\n",
    "print(\"the number of zero_crossings is :\", sum(zero_cross_rate))"
   ]
  },
  {
   "cell_type": "code",
   "execution_count": 2,
   "metadata": {},
   "outputs": [
    {
     "name": "stdout",
     "output_type": "stream",
     "text": [
      "['blues', 'classical', 'country', 'disco', 'hiphop', 'jazz', 'metal', 'pop', 'reggae', 'rock']\n"
     ]
    }
   ],
   "source": [
    "location = 'C:/Users/dhruv/OneDrive/Desktop/College/SEM 5/ML/Project/genres'\n",
    "print(list(os.listdir(f'{location}')))"
   ]
  },
  {
   "cell_type": "code",
   "execution_count": 3,
   "metadata": {
    "collapsed": true
   },
   "outputs": [
    {
     "ename": "FileExistsError",
     "evalue": "[WinError 183] Cannot create a file when that file already exists: 'C:/Users/dhruv/OneDrive/Desktop/College/SEM 5/ML/Project/spectrograms3sec'",
     "output_type": "error",
     "traceback": [
      "\u001b[1;31m---------------------------------------------------------------------------\u001b[0m",
      "\u001b[1;31mFileExistsError\u001b[0m                           Traceback (most recent call last)",
      "\u001b[1;32m<ipython-input-3-18dd1126d4f0>\u001b[0m in \u001b[0;36m<module>\u001b[1;34m\u001b[0m\n\u001b[1;32m----> 1\u001b[1;33m \u001b[0mos\u001b[0m\u001b[1;33m.\u001b[0m\u001b[0mmakedirs\u001b[0m\u001b[1;33m(\u001b[0m\u001b[1;34m'C:/Users/dhruv/OneDrive/Desktop/College/SEM 5/ML/Project/spectrograms3sec'\u001b[0m\u001b[1;33m)\u001b[0m\u001b[1;33m\u001b[0m\u001b[1;33m\u001b[0m\u001b[0m\n\u001b[0m\u001b[0;32m      2\u001b[0m \u001b[0mos\u001b[0m\u001b[1;33m.\u001b[0m\u001b[0mmakedirs\u001b[0m\u001b[1;33m(\u001b[0m\u001b[1;34m'C:/Users/Admin/Desktop/ML Project/Datasets/spectrograms3sec/train'\u001b[0m\u001b[1;33m)\u001b[0m\u001b[1;33m\u001b[0m\u001b[1;33m\u001b[0m\u001b[0m\n\u001b[0;32m      3\u001b[0m \u001b[0mos\u001b[0m\u001b[1;33m.\u001b[0m\u001b[0mmakedirs\u001b[0m\u001b[1;33m(\u001b[0m\u001b[1;34m'C:/Users/Admin/Desktop/ML Project/Datasets/spectrograms3sec/test'\u001b[0m\u001b[1;33m)\u001b[0m\u001b[1;33m\u001b[0m\u001b[1;33m\u001b[0m\u001b[0m\n",
      "\u001b[1;32m~\\anaconda3\\lib\\os.py\u001b[0m in \u001b[0;36mmakedirs\u001b[1;34m(name, mode, exist_ok)\u001b[0m\n\u001b[0;32m    221\u001b[0m             \u001b[1;32mreturn\u001b[0m\u001b[1;33m\u001b[0m\u001b[1;33m\u001b[0m\u001b[0m\n\u001b[0;32m    222\u001b[0m     \u001b[1;32mtry\u001b[0m\u001b[1;33m:\u001b[0m\u001b[1;33m\u001b[0m\u001b[1;33m\u001b[0m\u001b[0m\n\u001b[1;32m--> 223\u001b[1;33m         \u001b[0mmkdir\u001b[0m\u001b[1;33m(\u001b[0m\u001b[0mname\u001b[0m\u001b[1;33m,\u001b[0m \u001b[0mmode\u001b[0m\u001b[1;33m)\u001b[0m\u001b[1;33m\u001b[0m\u001b[1;33m\u001b[0m\u001b[0m\n\u001b[0m\u001b[0;32m    224\u001b[0m     \u001b[1;32mexcept\u001b[0m \u001b[0mOSError\u001b[0m\u001b[1;33m:\u001b[0m\u001b[1;33m\u001b[0m\u001b[1;33m\u001b[0m\u001b[0m\n\u001b[0;32m    225\u001b[0m         \u001b[1;31m# Cannot rely on checking for EEXIST, since the operating system\u001b[0m\u001b[1;33m\u001b[0m\u001b[1;33m\u001b[0m\u001b[1;33m\u001b[0m\u001b[0m\n",
      "\u001b[1;31mFileExistsError\u001b[0m: [WinError 183] Cannot create a file when that file already exists: 'C:/Users/dhruv/OneDrive/Desktop/College/SEM 5/ML/Project/spectrograms3sec'"
     ]
    }
   ],
   "source": [
    "os.makedirs('C:/Users/dhruv/OneDrive/Desktop/College/SEM 5/ML/Project/spectrograms3sec')\n",
    "os.makedirs('C:/Users/Admin/Desktop/ML Project/Datasets/spectrograms3sec/train')\n",
    "os.makedirs('C:/Users/Admin/Desktop/ML Project/Datasets/spectrograms3sec/test')"
   ]
  },
  {
   "cell_type": "code",
   "execution_count": 3,
   "metadata": {},
   "outputs": [],
   "source": [
    "genres = 'blues classical country disco hiphop jazz metal pop reggae rock'\n",
    "genres = genres.split()"
   ]
  },
  {
   "cell_type": "code",
   "execution_count": null,
   "metadata": {},
   "outputs": [],
   "source": [
    "for g in genres:\n",
    "  path_audio = os.path.join('C:/Users/dhruv/OneDrive/Desktop/College/SEM 5/ML/Project/audio3sec',f'{g}')\n",
    "  os.makedirs(path_audio)\n",
    "  path_train = os.path.join('C:/Users/dhruv/OneDrive/Desktop/College/SEM 5/ML/Project/spectrograms3sec1/train',f'{g}')\n",
    "  path_test = os.path.join('C:/Users/dhruv/OneDrive/Desktop/College/SEM 5/ML/Project/spectrograms3sec1/test',f'{g}')\n",
    "  os. makedirs(path_train)\n",
    "  os. makedirs(path_test)"
   ]
  },
  {
   "cell_type": "code",
   "execution_count": null,
   "metadata": {},
   "outputs": [],
   "source": [
    "from pydub import AudioSegment\n",
    "i = 0\n",
    "for g in genres:\n",
    "  j=0\n",
    "  print(f\"{g}\")\n",
    "  for filename in os.listdir(os.path.join('C:/Users/dhruv/OneDrive/Desktop/College/SEM 5/ML/Project/genres/',f\"{g}\")):\n",
    "\n",
    "    song  =  os.path.join(f'C:/Users/dhruv/OneDrive/Desktop/College/SEM 5/ML/Project/genres/{g}',f'{filename}')\n",
    "    j = j+1\n",
    "    for w in range(0,10):\n",
    "      i = i+1\n",
    "      #pydub calculates in milliseconds so we multiply the values by 1000\n",
    "      t1 = 3*(w)*1000\n",
    "      t2 = 3*(w+1)*1000\n",
    "      newAudio = AudioSegment.from_wav(song)\n",
    "      new = newAudio[t1:t2]\n",
    "      new.export(f'C:/Users/dhruv/OneDrive/Desktop/College/SEM 5/ML/Project/audio3sec/{g}/{g+str(j)+str(w)}.wav', format=\"wav\")"
   ]
  },
  {
   "cell_type": "code",
   "execution_count": null,
   "metadata": {},
   "outputs": [],
   "source": [
    "for g in genres:\n",
    "  j = 10\n",
    "  print(g)\n",
    "  for filename in os.listdir(os.path.join('C:/Users/dhruv/OneDrive/Desktop/College/SEM 5/ML/Project/audio3sec',f\"{g}\")):\n",
    "    song  =  os.path.join(f'C:/Users/dhruv/OneDrive/Desktop/College/SEM 5/ML/Project/audio3sec/{g}',f'{filename}')\n",
    "    y,sr = librosa.load(song,duration=3)\n",
    "    #print(sr)\n",
    "    mels = librosa.feature.melspectrogram(y=y,sr=sr)\n",
    "    fig = plt.Figure()\n",
    "    canvas = FigureCanvas(fig)\n",
    "    p = plt.imshow(librosa.power_to_db(mels,ref=np.max))\n",
    "    melspecname=(f'C:/Users/dhruv/OneDrive/Desktop/College/SEM 5/ML/Project/spectrograms3sec/train/{g}/{g+str(j)}')\n",
    "    plt.savefig(f'{melspecname}.png', format=\"png\")\n",
    "    j = j+1"
   ]
  },
  {
   "cell_type": "markdown",
   "metadata": {},
   "source": [
    "# Spliting Dataset into 80:20 "
   ]
  },
  {
   "cell_type": "code",
   "execution_count": 4,
   "metadata": {},
   "outputs": [],
   "source": [
    "directory = \"C:/Users/dhruv/OneDrive/Desktop/College/SEM 5/ML/Project/spectrograms3sec1/train/\"\n",
    "for g in genres:\n",
    "  filenames = os.listdir(os.path.join(directory,f\"{g}\"))\n",
    "  random.shuffle(filenames)\n",
    "  test_files = filenames[0:20]\n",
    "\n",
    "  for f in test_files:\n",
    "    shutil.move(directory + f\"{g}\"+ \"/\" + f,\"C:/Users/dhruv/OneDrive/Desktop/College/SEM 5/ML/Project/spectrograms3sec1/test/\" + f\"{g}\")"
   ]
  },
  {
   "cell_type": "code",
   "execution_count": 5,
   "metadata": {},
   "outputs": [
    {
     "name": "stdout",
     "output_type": "stream",
     "text": [
      "Found 800 images belonging to 10 classes.\n",
      "Found 200 images belonging to 10 classes.\n"
     ]
    }
   ],
   "source": [
    "train_dir = \"C:/Users/dhruv/OneDrive/Desktop/College/SEM 5/ML/Project/spectrograms3sec1/train/\"\n",
    "train_datagen = ImageDataGenerator(rescale=1./255)\n",
    "train_generator = train_datagen.flow_from_directory(train_dir,target_size=(288,432),color_mode=\"rgba\",class_mode='categorical',batch_size=128)\n",
    "\n",
    "validation_dir = \"C:/Users/dhruv/OneDrive/Desktop/College/SEM 5/ML/Project/spectrograms3sec1/test/\"\n",
    "vali_datagen = ImageDataGenerator(rescale=1./255)\n",
    "vali_generator = vali_datagen.flow_from_directory(validation_dir,target_size=(288,432),color_mode='rgba',class_mode='categorical',batch_size=128)\n"
   ]
  },
  {
   "cell_type": "markdown",
   "metadata": {},
   "source": [
    " # Building the model\n",
    "All of the hidden layers are using the RELU activation function and the output layer uses the softmax function. The loss is calculated using the categorical_crossentropy function. Dropout is used to prevent overfitting. We chose the Adam optimizer because it gave us the best results after evaluating other optimizers. The model accuracy can be increased by further increasing the epochs but after a certain period, we may achieve a threshold, so the value should be determined accordingly."
   ]
  },
  {
   "cell_type": "code",
   "execution_count": 6,
   "metadata": {},
   "outputs": [],
   "source": [
    "def GenreModel(input_shape = (288,432,4),classes=10):\n",
    "  np.random.seed(10)\n",
    "  X_input = Input(input_shape)\n",
    "\n",
    "  X = Conv2D(8,kernel_size=(3,3),strides=(1,1),kernel_initializer = glorot_uniform(seed=10))(X_input)\n",
    "  X = BatchNormalization(axis=3)(X)\n",
    "  X = Activation('relu')(X)\n",
    "  X = MaxPooling2D((2,2))(X)\n",
    "  \n",
    "  X = Conv2D(16,kernel_size=(3,3),strides = (1,1),kernel_initializer=glorot_uniform(seed=10))(X)\n",
    "  X = BatchNormalization(axis=3)(X)\n",
    "  X = Activation('relu')(X)\n",
    "  X = MaxPooling2D((2,2))(X)\n",
    "  \n",
    "  X = Conv2D(32,kernel_size=(3,3),strides = (1,1),kernel_initializer = glorot_uniform(seed=10))(X)\n",
    "  X = BatchNormalization(axis=3)(X)\n",
    "  X = Activation('relu')(X)\n",
    "  X = MaxPooling2D((2,2))(X)\n",
    "\n",
    "  X = Conv2D(64,kernel_size=(3,3),strides=(1,1),kernel_initializer=glorot_uniform(seed=10))(X)\n",
    "  X = BatchNormalization(axis=-1)(X)\n",
    "  X = Activation('relu')(X)\n",
    "  X = MaxPooling2D((2,2))(X)\n",
    "\n",
    "  \n",
    "  X = Flatten()(X)\n",
    "\n",
    "  X = Dropout(rate=0.3)\n",
    "\n",
    "  X = Dense(classes, activation='softmax', name='fc' + str(classes), kernel_initializer = glorot_uniform(seed=10))(X)\n",
    "\n",
    "  model = Model(inputs=X_input,outputs=X,name='GenreModel')\n",
    "\n",
    "  return model"
   ]
  },
  {
   "cell_type": "code",
   "execution_count": 7,
   "metadata": {},
   "outputs": [
    {
     "name": "stdout",
     "output_type": "stream",
     "text": [
      "Epoch 1/70\n",
      "7/7 [==============================] - 35s 5s/step - loss: 6.5165 - accuracy: 0.1762 - get_f1: 0.1603 - val_loss: 2.3128 - val_accuracy: 0.1000 - val_get_f1: 0.0000e+00\n",
      "Epoch 2/70\n",
      "7/7 [==============================] - 30s 4s/step - loss: 3.5964 - accuracy: 0.3262 - get_f1: 0.3064 - val_loss: 2.2810 - val_accuracy: 0.1000 - val_get_f1: 0.0000e+00\n",
      "Epoch 3/70\n",
      "7/7 [==============================] - 32s 4s/step - loss: 2.7945 - accuracy: 0.4150 - get_f1: 0.4051 - val_loss: 2.2269 - val_accuracy: 0.1000 - val_get_f1: 0.0000e+00\n",
      "Epoch 4/70\n",
      "7/7 [==============================] - 32s 4s/step - loss: 1.6512 - accuracy: 0.4212 - get_f1: 0.3931 - val_loss: 2.1074 - val_accuracy: 0.1300 - val_get_f1: 0.0000e+00\n",
      "Epoch 5/70\n",
      "7/7 [==============================] - 31s 4s/step - loss: 1.3990 - accuracy: 0.5038 - get_f1: 0.4840 - val_loss: 2.0564 - val_accuracy: 0.1900 - val_get_f1: 0.0000e+00\n",
      "Epoch 6/70\n",
      "7/7 [==============================] - 31s 4s/step - loss: 1.1714 - accuracy: 0.5838 - get_f1: 0.5303 - val_loss: 2.0173 - val_accuracy: 0.2000 - val_get_f1: 0.0000e+00\n",
      "Epoch 7/70\n",
      "7/7 [==============================] - 31s 4s/step - loss: 0.9782 - accuracy: 0.6463 - get_f1: 0.6116 - val_loss: 2.0386 - val_accuracy: 0.2000 - val_get_f1: 0.0000e+00\n",
      "Epoch 8/70\n",
      "7/7 [==============================] - 31s 5s/step - loss: 0.8947 - accuracy: 0.6737 - get_f1: 0.6232 - val_loss: 2.0524 - val_accuracy: 0.2000 - val_get_f1: 0.0000e+00\n",
      "Epoch 9/70\n",
      "7/7 [==============================] - 31s 4s/step - loss: 0.8395 - accuracy: 0.6975 - get_f1: 0.6778 - val_loss: 2.0740 - val_accuracy: 0.2000 - val_get_f1: 0.0000e+00\n",
      "Epoch 10/70\n",
      "7/7 [==============================] - 31s 5s/step - loss: 0.7676 - accuracy: 0.7312 - get_f1: 0.7020 - val_loss: 2.1360 - val_accuracy: 0.1000 - val_get_f1: 0.0000e+00\n",
      "Epoch 11/70\n",
      "7/7 [==============================] - 34s 5s/step - loss: 0.6566 - accuracy: 0.7675 - get_f1: 0.7675 - val_loss: 2.2421 - val_accuracy: 0.1000 - val_get_f1: 0.0000e+00\n",
      "Epoch 12/70\n",
      "7/7 [==============================] - 33s 4s/step - loss: 0.5957 - accuracy: 0.7900 - get_f1: 0.7842 - val_loss: 2.3098 - val_accuracy: 0.1000 - val_get_f1: 0.0000e+00\n",
      "Epoch 13/70\n",
      "7/7 [==============================] - 32s 4s/step - loss: 0.5559 - accuracy: 0.7975 - get_f1: 0.7914 - val_loss: 2.3812 - val_accuracy: 0.1000 - val_get_f1: 0.0000e+00\n",
      "Epoch 14/70\n",
      "7/7 [==============================] - 31s 5s/step - loss: 0.4701 - accuracy: 0.8462 - get_f1: 0.8250 - val_loss: 2.4120 - val_accuracy: 0.1000 - val_get_f1: 0.0000e+00\n",
      "Epoch 15/70\n",
      "7/7 [==============================] - 32s 5s/step - loss: 0.4119 - accuracy: 0.8612 - get_f1: 0.8741 - val_loss: 2.4762 - val_accuracy: 0.1000 - val_get_f1: 0.0000e+00\n",
      "Epoch 16/70\n",
      "7/7 [==============================] - 32s 4s/step - loss: 0.3546 - accuracy: 0.8925 - get_f1: 0.8900 - val_loss: 2.4953 - val_accuracy: 0.1450 - val_get_f1: 0.0000e+00\n",
      "Epoch 17/70\n",
      "7/7 [==============================] - 32s 4s/step - loss: 0.2889 - accuracy: 0.9162 - get_f1: 0.9053 - val_loss: 2.4894 - val_accuracy: 0.1250 - val_get_f1: 0.0000e+00\n",
      "Epoch 18/70\n",
      "7/7 [==============================] - 32s 4s/step - loss: 0.2996 - accuracy: 0.9150 - get_f1: 0.8889 - val_loss: 2.5205 - val_accuracy: 0.1400 - val_get_f1: 0.0000e+00\n",
      "Epoch 19/70\n",
      "7/7 [==============================] - 32s 4s/step - loss: 0.2278 - accuracy: 0.9425 - get_f1: 0.9395 - val_loss: 2.6856 - val_accuracy: 0.1400 - val_get_f1: 0.0000e+00\n",
      "Epoch 20/70\n",
      "7/7 [==============================] - 32s 4s/step - loss: 0.2202 - accuracy: 0.9438 - get_f1: 0.9428 - val_loss: 2.6342 - val_accuracy: 0.1500 - val_get_f1: 0.0000e+00\n",
      "Epoch 21/70\n",
      "7/7 [==============================] - 33s 5s/step - loss: 0.1661 - accuracy: 0.9650 - get_f1: 0.9661 - val_loss: 2.6817 - val_accuracy: 0.1200 - val_get_f1: 0.1049\n",
      "Epoch 22/70\n",
      "7/7 [==============================] - 32s 5s/step - loss: 0.1586 - accuracy: 0.9613 - get_f1: 0.9639 - val_loss: 2.6434 - val_accuracy: 0.1300 - val_get_f1: 0.0534\n",
      "Epoch 23/70\n",
      "7/7 [==============================] - 32s 4s/step - loss: 0.1212 - accuracy: 0.9837 - get_f1: 0.9824 - val_loss: 2.7632 - val_accuracy: 0.1200 - val_get_f1: 0.1190\n",
      "Epoch 24/70\n",
      "7/7 [==============================] - 32s 4s/step - loss: 0.0891 - accuracy: 0.9950 - get_f1: 0.9944 - val_loss: 2.7703 - val_accuracy: 0.1200 - val_get_f1: 0.1308\n",
      "Epoch 25/70\n",
      "7/7 [==============================] - 32s 4s/step - loss: 0.0796 - accuracy: 0.9987 - get_f1: 0.9972 - val_loss: 2.9366 - val_accuracy: 0.1100 - val_get_f1: 0.1343\n",
      "Epoch 26/70\n",
      "7/7 [==============================] - 32s 4s/step - loss: 0.0881 - accuracy: 0.9975 - get_f1: 0.9944 - val_loss: 2.8484 - val_accuracy: 0.1200 - val_get_f1: 0.1188\n",
      "Epoch 27/70\n",
      "7/7 [==============================] - 32s 4s/step - loss: 0.0728 - accuracy: 0.9937 - get_f1: 0.9944 - val_loss: 2.9557 - val_accuracy: 0.1150 - val_get_f1: 0.1046\n",
      "Epoch 28/70\n",
      "7/7 [==============================] - 36s 5s/step - loss: 0.0531 - accuracy: 1.0000 - get_f1: 0.9994 - val_loss: 2.8676 - val_accuracy: 0.1250 - val_get_f1: 0.1218\n",
      "Epoch 29/70\n",
      "7/7 [==============================] - 32s 4s/step - loss: 0.0450 - accuracy: 1.0000 - get_f1: 1.0000 - val_loss: 2.8264 - val_accuracy: 0.1150 - val_get_f1: 0.1184\n",
      "Epoch 30/70\n",
      "7/7 [==============================] - 32s 5s/step - loss: 0.0416 - accuracy: 1.0000 - get_f1: 1.0000 - val_loss: 2.8930 - val_accuracy: 0.1200 - val_get_f1: 0.1352\n",
      "Epoch 31/70\n",
      "7/7 [==============================] - 32s 4s/step - loss: 0.0430 - accuracy: 1.0000 - get_f1: 0.9966 - val_loss: 2.6165 - val_accuracy: 0.1400 - val_get_f1: 0.1535\n",
      "Epoch 32/70\n",
      "7/7 [==============================] - 35s 5s/step - loss: 0.0349 - accuracy: 1.0000 - get_f1: 1.0000 - val_loss: 2.6603 - val_accuracy: 0.1250 - val_get_f1: 0.1252\n",
      "Epoch 33/70\n",
      "7/7 [==============================] - 34s 5s/step - loss: 0.0322 - accuracy: 1.0000 - get_f1: 1.0000 - val_loss: 2.3805 - val_accuracy: 0.2150 - val_get_f1: 0.1571\n",
      "Epoch 34/70\n",
      "7/7 [==============================] - 34s 5s/step - loss: 0.0263 - accuracy: 1.0000 - get_f1: 1.0000 - val_loss: 2.3530 - val_accuracy: 0.2500 - val_get_f1: 0.1902\n",
      "Epoch 35/70\n",
      "7/7 [==============================] - 33s 5s/step - loss: 0.0231 - accuracy: 1.0000 - get_f1: 1.0000 - val_loss: 2.2907 - val_accuracy: 0.2550 - val_get_f1: 0.1891\n",
      "Epoch 36/70\n",
      "7/7 [==============================] - 33s 5s/step - loss: 0.0224 - accuracy: 1.0000 - get_f1: 1.0000 - val_loss: 2.1589 - val_accuracy: 0.3150 - val_get_f1: 0.2647\n",
      "Epoch 37/70\n",
      "7/7 [==============================] - 32s 4s/step - loss: 0.0214 - accuracy: 1.0000 - get_f1: 1.0000 - val_loss: 2.0469 - val_accuracy: 0.3200 - val_get_f1: 0.2911\n",
      "Epoch 38/70\n",
      "7/7 [==============================] - 32s 5s/step - loss: 0.0192 - accuracy: 1.0000 - get_f1: 1.0000 - val_loss: 1.9975 - val_accuracy: 0.3350 - val_get_f1: 0.3084\n",
      "Epoch 39/70\n",
      "7/7 [==============================] - 32s 4s/step - loss: 0.0177 - accuracy: 1.0000 - get_f1: 1.0000 - val_loss: 1.9755 - val_accuracy: 0.3350 - val_get_f1: 0.3230\n",
      "Epoch 40/70\n",
      "7/7 [==============================] - 33s 5s/step - loss: 0.0162 - accuracy: 1.0000 - get_f1: 1.0000 - val_loss: 1.9009 - val_accuracy: 0.3750 - val_get_f1: 0.3477\n",
      "Epoch 41/70\n",
      "7/7 [==============================] - 32s 5s/step - loss: 0.0149 - accuracy: 1.0000 - get_f1: 1.0000 - val_loss: 1.8316 - val_accuracy: 0.4050 - val_get_f1: 0.3773\n",
      "Epoch 42/70\n",
      "7/7 [==============================] - 32s 4s/step - loss: 0.0143 - accuracy: 1.0000 - get_f1: 1.0000 - val_loss: 1.8289 - val_accuracy: 0.4150 - val_get_f1: 0.3874\n",
      "Epoch 43/70\n",
      "7/7 [==============================] - 32s 4s/step - loss: 0.0239 - accuracy: 1.0000 - get_f1: 1.0000 - val_loss: 1.6962 - val_accuracy: 0.4400 - val_get_f1: 0.4432\n",
      "Epoch 44/70\n",
      "7/7 [==============================] - 36s 5s/step - loss: 0.0220 - accuracy: 1.0000 - get_f1: 1.0000 - val_loss: 1.6134 - val_accuracy: 0.4700 - val_get_f1: 0.4557\n",
      "Epoch 45/70\n",
      "7/7 [==============================] - 34s 5s/step - loss: 0.0206 - accuracy: 1.0000 - get_f1: 1.0000 - val_loss: 1.5106 - val_accuracy: 0.4900 - val_get_f1: 0.4662\n",
      "Epoch 46/70\n",
      "7/7 [==============================] - 33s 5s/step - loss: 0.0180 - accuracy: 1.0000 - get_f1: 1.0000 - val_loss: 1.5289 - val_accuracy: 0.4850 - val_get_f1: 0.4713\n",
      "Epoch 47/70\n",
      "7/7 [==============================] - 34s 5s/step - loss: 0.0144 - accuracy: 1.0000 - get_f1: 1.0000 - val_loss: 1.3458 - val_accuracy: 0.5250 - val_get_f1: 0.5204\n",
      "Epoch 48/70\n",
      "7/7 [==============================] - 38s 5s/step - loss: 0.0130 - accuracy: 1.0000 - get_f1: 1.0000 - val_loss: 1.4195 - val_accuracy: 0.5350 - val_get_f1: 0.5098\n",
      "Epoch 49/70\n",
      "7/7 [==============================] - 43s 6s/step - loss: 0.0113 - accuracy: 1.0000 - get_f1: 1.0000 - val_loss: 1.2814 - val_accuracy: 0.5600 - val_get_f1: 0.5454\n",
      "Epoch 50/70\n",
      "7/7 [==============================] - 31s 4s/step - loss: 0.0103 - accuracy: 1.0000 - get_f1: 1.0000 - val_loss: 1.3616 - val_accuracy: 0.5700 - val_get_f1: 0.5330\n",
      "Epoch 51/70\n",
      "7/7 [==============================] - 31s 4s/step - loss: 0.0096 - accuracy: 1.0000 - get_f1: 1.0000 - val_loss: 1.2316 - val_accuracy: 0.5750 - val_get_f1: 0.5632\n",
      "Epoch 52/70\n",
      "7/7 [==============================] - 30s 4s/step - loss: 0.0102 - accuracy: 1.0000 - get_f1: 1.0000 - val_loss: 1.2476 - val_accuracy: 0.5750 - val_get_f1: 0.5544\n",
      "Epoch 53/70\n",
      "7/7 [==============================] - 30s 4s/step - loss: 0.0094 - accuracy: 1.0000 - get_f1: 1.0000 - val_loss: 1.2533 - val_accuracy: 0.6000 - val_get_f1: 0.5929\n",
      "Epoch 54/70\n",
      "7/7 [==============================] - 30s 4s/step - loss: 0.0081 - accuracy: 1.0000 - get_f1: 1.0000 - val_loss: 1.1179 - val_accuracy: 0.6250 - val_get_f1: 0.6059\n",
      "Epoch 55/70\n",
      "7/7 [==============================] - 31s 4s/step - loss: 0.0082 - accuracy: 1.0000 - get_f1: 1.0000 - val_loss: 1.1550 - val_accuracy: 0.6150 - val_get_f1: 0.6057\n",
      "Epoch 56/70\n",
      "7/7 [==============================] - 33s 4s/step - loss: 0.0076 - accuracy: 1.0000 - get_f1: 1.0000 - val_loss: 1.0993 - val_accuracy: 0.6300 - val_get_f1: 0.6153\n",
      "Epoch 57/70\n",
      "7/7 [==============================] - 30s 4s/step - loss: 0.0071 - accuracy: 1.0000 - get_f1: 1.0000 - val_loss: 1.0613 - val_accuracy: 0.6300 - val_get_f1: 0.6652\n",
      "Epoch 58/70\n",
      "7/7 [==============================] - 31s 5s/step - loss: 0.0072 - accuracy: 1.0000 - get_f1: 1.0000 - val_loss: 1.0748 - val_accuracy: 0.6350 - val_get_f1: 0.6459\n",
      "Epoch 59/70\n",
      "7/7 [==============================] - 31s 4s/step - loss: 0.0062 - accuracy: 1.0000 - get_f1: 1.0000 - val_loss: 0.9957 - val_accuracy: 0.6650 - val_get_f1: 0.6656\n",
      "Epoch 60/70\n",
      "7/7 [==============================] - 32s 4s/step - loss: 0.0061 - accuracy: 1.0000 - get_f1: 1.0000 - val_loss: 0.9889 - val_accuracy: 0.6700 - val_get_f1: 0.6611\n",
      "Epoch 61/70\n",
      "7/7 [==============================] - 30s 4s/step - loss: 0.0065 - accuracy: 1.0000 - get_f1: 1.0000 - val_loss: 1.0158 - val_accuracy: 0.6600 - val_get_f1: 0.6582\n",
      "Epoch 62/70\n",
      "7/7 [==============================] - 32s 4s/step - loss: 0.0060 - accuracy: 1.0000 - get_f1: 1.0000 - val_loss: 0.9781 - val_accuracy: 0.6900 - val_get_f1: 0.6780\n",
      "Epoch 63/70\n",
      "7/7 [==============================] - 31s 4s/step - loss: 0.0063 - accuracy: 1.0000 - get_f1: 1.0000 - val_loss: 0.9506 - val_accuracy: 0.6900 - val_get_f1: 0.6782\n",
      "Epoch 64/70\n",
      "7/7 [==============================] - 31s 4s/step - loss: 0.0055 - accuracy: 1.0000 - get_f1: 1.0000 - val_loss: 0.8994 - val_accuracy: 0.6950 - val_get_f1: 0.6899\n",
      "Epoch 65/70\n",
      "7/7 [==============================] - 32s 4s/step - loss: 0.0052 - accuracy: 1.0000 - get_f1: 1.0000 - val_loss: 0.9497 - val_accuracy: 0.7000 - val_get_f1: 0.6882\n",
      "Epoch 66/70\n",
      "7/7 [==============================] - 31s 4s/step - loss: 0.0050 - accuracy: 1.0000 - get_f1: 1.0000 - val_loss: 0.9087 - val_accuracy: 0.6900 - val_get_f1: 0.6821\n",
      "Epoch 67/70\n",
      "7/7 [==============================] - 32s 4s/step - loss: 0.0052 - accuracy: 1.0000 - get_f1: 1.0000 - val_loss: 0.8771 - val_accuracy: 0.6900 - val_get_f1: 0.7072\n",
      "Epoch 68/70\n",
      "7/7 [==============================] - 32s 5s/step - loss: 0.0049 - accuracy: 1.0000 - get_f1: 1.0000 - val_loss: 0.8880 - val_accuracy: 0.7100 - val_get_f1: 0.7100\n",
      "Epoch 69/70\n",
      "7/7 [==============================] - 32s 4s/step - loss: 0.0050 - accuracy: 1.0000 - get_f1: 1.0000 - val_loss: 0.8639 - val_accuracy: 0.6950 - val_get_f1: 0.6934\n",
      "Epoch 70/70\n",
      "7/7 [==============================] - 32s 4s/step - loss: 0.0045 - accuracy: 1.0000 - get_f1: 1.0000 - val_loss: 0.8519 - val_accuracy: 0.6950 - val_get_f1: 0.7096\n"
     ]
    }
   ],
   "source": [
    "import keras.backend as K\n",
    "def get_f1(y_true, y_pred): #taken from old keras source code\n",
    "    true_positives = K.sum(K.round(K.clip(y_true * y_pred, 0, 1)))\n",
    "    possible_positives = K.sum(K.round(K.clip(y_true, 0, 1)))\n",
    "    predicted_positives = K.sum(K.round(K.clip(y_pred, 0, 1)))\n",
    "    precision = true_positives / (predicted_positives + K.epsilon())\n",
    "    recall = true_positives / (possible_positives + K.epsilon())\n",
    "    f1_val = 2*(precision*recall)/(precision+recall+K.epsilon())\n",
    "    return f1_val\n",
    "  \n",
    "model = GenreModel(input_shape=(288,432,4),classes=10)\n",
    "opt = Adam(learning_rate=0.0005)\n",
    "model.compile(optimizer = opt,loss='categorical_crossentropy',metrics=['accuracy',get_f1]) \n",
    "\n",
    "history = model.fit_generator(train_generator,epochs=70,validation_data=vali_generator)\n",
    "\n"
   ]
  },
  {
   "cell_type": "code",
   "execution_count": 11,
   "metadata": {},
   "outputs": [
    {
     "name": "stdout",
     "output_type": "stream",
     "text": [
      "Model: \"GenreModel\"\n",
      "_________________________________________________________________\n",
      "Layer (type)                 Output Shape              Param #   \n",
      "=================================================================\n",
      "input_1 (InputLayer)         [(None, 288, 432, 4)]     0         \n",
      "_________________________________________________________________\n",
      "conv2d (Conv2D)              (None, 286, 430, 8)       296       \n",
      "_________________________________________________________________\n",
      "batch_normalization (BatchNo (None, 286, 430, 8)       32        \n",
      "_________________________________________________________________\n",
      "activation (Activation)      (None, 286, 430, 8)       0         \n",
      "_________________________________________________________________\n",
      "max_pooling2d (MaxPooling2D) (None, 143, 215, 8)       0         \n",
      "_________________________________________________________________\n",
      "conv2d_1 (Conv2D)            (None, 141, 213, 16)      1168      \n",
      "_________________________________________________________________\n",
      "batch_normalization_1 (Batch (None, 141, 213, 16)      64        \n",
      "_________________________________________________________________\n",
      "activation_1 (Activation)    (None, 141, 213, 16)      0         \n",
      "_________________________________________________________________\n",
      "max_pooling2d_1 (MaxPooling2 (None, 70, 106, 16)       0         \n",
      "_________________________________________________________________\n",
      "conv2d_2 (Conv2D)            (None, 68, 104, 32)       4640      \n",
      "_________________________________________________________________\n",
      "batch_normalization_2 (Batch (None, 68, 104, 32)       128       \n",
      "_________________________________________________________________\n",
      "activation_2 (Activation)    (None, 68, 104, 32)       0         \n",
      "_________________________________________________________________\n",
      "max_pooling2d_2 (MaxPooling2 (None, 34, 52, 32)        0         \n",
      "_________________________________________________________________\n",
      "conv2d_3 (Conv2D)            (None, 32, 50, 64)        18496     \n",
      "_________________________________________________________________\n",
      "batch_normalization_3 (Batch (None, 32, 50, 64)        256       \n",
      "_________________________________________________________________\n",
      "activation_3 (Activation)    (None, 32, 50, 64)        0         \n",
      "_________________________________________________________________\n",
      "max_pooling2d_3 (MaxPooling2 (None, 16, 25, 64)        0         \n",
      "_________________________________________________________________\n",
      "flatten (Flatten)            (None, 25600)             0         \n",
      "_________________________________________________________________\n",
      "fc10 (Dense)                 (None, 10)                256010    \n",
      "=================================================================\n",
      "Total params: 281,090\n",
      "Trainable params: 280,850\n",
      "Non-trainable params: 240\n",
      "_________________________________________________________________\n"
     ]
    }
   ],
   "source": [
    "model.summary()"
   ]
  },
  {
   "cell_type": "markdown",
   "metadata": {},
   "source": [
    "# Model Evaluation"
   ]
  },
  {
   "cell_type": "code",
   "execution_count": 12,
   "metadata": {},
   "outputs": [],
   "source": [
    "def plotValidate(history):\n",
    "    print(\"Validation Accuracy\",max(history.history[\"val_accuracy\"]))\n",
    "    pd.DataFrame(history.history).plot(figsize=(12,6))\n",
    "    plt.show()"
   ]
  },
  {
   "cell_type": "code",
   "execution_count": 13,
   "metadata": {},
   "outputs": [],
   "source": [
    "def plot_history(hist):\n",
    "    plt.figure(figsize=(20,15))\n",
    "    fig, axs = plt.subplots(2)\n",
    "    fig.tight_layout(pad=2.0)\n",
    "    \n",
    "    # accuracy subplot\n",
    "    axs[0].plot(hist.history[\"accuracy\"], label=\"train accuracy\")\n",
    "    axs[0].plot(hist.history[\"val_accuracy\"], label=\"test accuracy\")    \n",
    "    axs[0].set_ylabel(\"Accuracy\")\n",
    "    axs[0].legend(loc=\"lower right\")\n",
    "    axs[0].set_title(\"Accuracy eval\")\n",
    "    \n",
    "    # Error subplot\n",
    "    axs[1].plot(hist.history[\"loss\"], label=\"train error\")\n",
    "    axs[1].plot(hist.history[\"val_loss\"], label=\"test error\")    \n",
    "    axs[1].set_ylabel(\"Error\")\n",
    "    axs[1].set_xlabel(\"Epoch\")\n",
    "    axs[1].legend(loc=\"upper right\")\n",
    "    axs[1].set_title(\"Error eval\")\n",
    "    \n",
    "    plt.show()"
   ]
  },
  {
   "cell_type": "code",
   "execution_count": 14,
   "metadata": {},
   "outputs": [
    {
     "data": {
      "text/plain": [
       "{'loss': [6.516544342041016,\n",
       "  3.596397638320923,\n",
       "  2.7945046424865723,\n",
       "  1.6511744260787964,\n",
       "  1.398962378501892,\n",
       "  1.171403408050537,\n",
       "  0.9781506061553955,\n",
       "  0.8947227001190186,\n",
       "  0.839494526386261,\n",
       "  0.767581582069397,\n",
       "  0.6566316485404968,\n",
       "  0.595695972442627,\n",
       "  0.5559428334236145,\n",
       "  0.4701377749443054,\n",
       "  0.41194429993629456,\n",
       "  0.35461491346359253,\n",
       "  0.28889796137809753,\n",
       "  0.2996319830417633,\n",
       "  0.22782568633556366,\n",
       "  0.22017699480056763,\n",
       "  0.16607098281383514,\n",
       "  0.1586015820503235,\n",
       "  0.12120334804058075,\n",
       "  0.08909422904253006,\n",
       "  0.07958913594484329,\n",
       "  0.08814834803342819,\n",
       "  0.0728374794125557,\n",
       "  0.053096555173397064,\n",
       "  0.04503333941102028,\n",
       "  0.04156296327710152,\n",
       "  0.043028853833675385,\n",
       "  0.034871891140937805,\n",
       "  0.03221331909298897,\n",
       "  0.02634427137672901,\n",
       "  0.023111898452043533,\n",
       "  0.022369205951690674,\n",
       "  0.021353378891944885,\n",
       "  0.01918134279549122,\n",
       "  0.017727194353938103,\n",
       "  0.016210846602916718,\n",
       "  0.014893611893057823,\n",
       "  0.01434556394815445,\n",
       "  0.02391044609248638,\n",
       "  0.021987155079841614,\n",
       "  0.020563814789056778,\n",
       "  0.01802542805671692,\n",
       "  0.014351285994052887,\n",
       "  0.012974228709936142,\n",
       "  0.011317716911435127,\n",
       "  0.010326582938432693,\n",
       "  0.009579923003911972,\n",
       "  0.010158835910260677,\n",
       "  0.009432107210159302,\n",
       "  0.00809771753847599,\n",
       "  0.008188892155885696,\n",
       "  0.007635686546564102,\n",
       "  0.007073819637298584,\n",
       "  0.007151531986892223,\n",
       "  0.006187302991747856,\n",
       "  0.006111388094723225,\n",
       "  0.006491020787507296,\n",
       "  0.006010746583342552,\n",
       "  0.006283159833401442,\n",
       "  0.005458640865981579,\n",
       "  0.005155367776751518,\n",
       "  0.005044287536293268,\n",
       "  0.005195858888328075,\n",
       "  0.004916277714073658,\n",
       "  0.0050451550632715225,\n",
       "  0.0044502317905426025],\n",
       " 'accuracy': [0.17624999582767487,\n",
       "  0.32624998688697815,\n",
       "  0.41499999165534973,\n",
       "  0.42124998569488525,\n",
       "  0.5037500262260437,\n",
       "  0.5837500095367432,\n",
       "  0.6462500095367432,\n",
       "  0.6737499833106995,\n",
       "  0.6974999904632568,\n",
       "  0.731249988079071,\n",
       "  0.7674999833106995,\n",
       "  0.7900000214576721,\n",
       "  0.7975000143051147,\n",
       "  0.8462499976158142,\n",
       "  0.8612499833106995,\n",
       "  0.8924999833106995,\n",
       "  0.9162499904632568,\n",
       "  0.9150000214576721,\n",
       "  0.9424999952316284,\n",
       "  0.9437500238418579,\n",
       "  0.9649999737739563,\n",
       "  0.9612500071525574,\n",
       "  0.9837499856948853,\n",
       "  0.9950000047683716,\n",
       "  0.9987499713897705,\n",
       "  0.9975000023841858,\n",
       "  0.9937499761581421,\n",
       "  1.0,\n",
       "  1.0,\n",
       "  1.0,\n",
       "  1.0,\n",
       "  1.0,\n",
       "  1.0,\n",
       "  1.0,\n",
       "  1.0,\n",
       "  1.0,\n",
       "  1.0,\n",
       "  1.0,\n",
       "  1.0,\n",
       "  1.0,\n",
       "  1.0,\n",
       "  1.0,\n",
       "  1.0,\n",
       "  1.0,\n",
       "  1.0,\n",
       "  1.0,\n",
       "  1.0,\n",
       "  1.0,\n",
       "  1.0,\n",
       "  1.0,\n",
       "  1.0,\n",
       "  1.0,\n",
       "  1.0,\n",
       "  1.0,\n",
       "  1.0,\n",
       "  1.0,\n",
       "  1.0,\n",
       "  1.0,\n",
       "  1.0,\n",
       "  1.0,\n",
       "  1.0,\n",
       "  1.0,\n",
       "  1.0,\n",
       "  1.0,\n",
       "  1.0,\n",
       "  1.0,\n",
       "  1.0,\n",
       "  1.0,\n",
       "  1.0,\n",
       "  1.0],\n",
       " 'get_f1': [0.16030701994895935,\n",
       "  0.3063608705997467,\n",
       "  0.40507975220680237,\n",
       "  0.39311638474464417,\n",
       "  0.48396068811416626,\n",
       "  0.5303005576133728,\n",
       "  0.6116251349449158,\n",
       "  0.6231856942176819,\n",
       "  0.6777740716934204,\n",
       "  0.701983630657196,\n",
       "  0.767466127872467,\n",
       "  0.784161388874054,\n",
       "  0.7913673520088196,\n",
       "  0.8249666094779968,\n",
       "  0.8740949034690857,\n",
       "  0.8899892568588257,\n",
       "  0.9052960276603699,\n",
       "  0.8889307379722595,\n",
       "  0.939542293548584,\n",
       "  0.9428225159645081,\n",
       "  0.9661480784416199,\n",
       "  0.9639164805412292,\n",
       "  0.9823507070541382,\n",
       "  0.9943711161613464,\n",
       "  0.9971944689750671,\n",
       "  0.9943709969520569,\n",
       "  0.9943933486938477,\n",
       "  0.9994397759437561,\n",
       "  1.0,\n",
       "  1.0,\n",
       "  0.996612012386322,\n",
       "  1.0,\n",
       "  1.0,\n",
       "  1.0,\n",
       "  1.0,\n",
       "  1.0,\n",
       "  1.0,\n",
       "  1.0,\n",
       "  1.0,\n",
       "  1.0,\n",
       "  1.0,\n",
       "  1.0,\n",
       "  1.0,\n",
       "  1.0,\n",
       "  1.0,\n",
       "  1.0,\n",
       "  1.0,\n",
       "  1.0,\n",
       "  1.0,\n",
       "  1.0,\n",
       "  1.0,\n",
       "  1.0,\n",
       "  1.0,\n",
       "  1.0,\n",
       "  1.0,\n",
       "  1.0,\n",
       "  1.0,\n",
       "  1.0,\n",
       "  1.0,\n",
       "  1.0,\n",
       "  1.0,\n",
       "  1.0,\n",
       "  1.0,\n",
       "  1.0,\n",
       "  1.0,\n",
       "  1.0,\n",
       "  1.0,\n",
       "  1.0,\n",
       "  1.0,\n",
       "  1.0],\n",
       " 'val_loss': [2.3127779960632324,\n",
       "  2.281038761138916,\n",
       "  2.2269082069396973,\n",
       "  2.107416868209839,\n",
       "  2.0563743114471436,\n",
       "  2.017298698425293,\n",
       "  2.038623571395874,\n",
       "  2.0523664951324463,\n",
       "  2.073979377746582,\n",
       "  2.136037826538086,\n",
       "  2.2421016693115234,\n",
       "  2.3097870349884033,\n",
       "  2.3812386989593506,\n",
       "  2.412046432495117,\n",
       "  2.47622013092041,\n",
       "  2.4953043460845947,\n",
       "  2.4894323348999023,\n",
       "  2.520493507385254,\n",
       "  2.6855685710906982,\n",
       "  2.6341848373413086,\n",
       "  2.681654691696167,\n",
       "  2.643420934677124,\n",
       "  2.76318359375,\n",
       "  2.7702906131744385,\n",
       "  2.9365649223327637,\n",
       "  2.8484086990356445,\n",
       "  2.955670118331909,\n",
       "  2.867593288421631,\n",
       "  2.826380968093872,\n",
       "  2.893038272857666,\n",
       "  2.6165356636047363,\n",
       "  2.660256862640381,\n",
       "  2.380453586578369,\n",
       "  2.3530116081237793,\n",
       "  2.290675401687622,\n",
       "  2.15891170501709,\n",
       "  2.046924352645874,\n",
       "  1.9974743127822876,\n",
       "  1.9755489826202393,\n",
       "  1.9008572101593018,\n",
       "  1.8315980434417725,\n",
       "  1.8289371728897095,\n",
       "  1.696193814277649,\n",
       "  1.613397240638733,\n",
       "  1.5106055736541748,\n",
       "  1.5289448499679565,\n",
       "  1.3457869291305542,\n",
       "  1.4195386171340942,\n",
       "  1.2813749313354492,\n",
       "  1.3616116046905518,\n",
       "  1.2315564155578613,\n",
       "  1.2476260662078857,\n",
       "  1.253252387046814,\n",
       "  1.117889165878296,\n",
       "  1.154970407485962,\n",
       "  1.09934663772583,\n",
       "  1.0613240003585815,\n",
       "  1.0748333930969238,\n",
       "  0.9957356452941895,\n",
       "  0.9888798594474792,\n",
       "  1.0158226490020752,\n",
       "  0.9781125783920288,\n",
       "  0.950558602809906,\n",
       "  0.8993850946426392,\n",
       "  0.9496557712554932,\n",
       "  0.9086822271347046,\n",
       "  0.8771244883537292,\n",
       "  0.8880010843276978,\n",
       "  0.8639288544654846,\n",
       "  0.8518890142440796],\n",
       " 'val_accuracy': [0.10000000149011612,\n",
       "  0.10000000149011612,\n",
       "  0.10000000149011612,\n",
       "  0.12999999523162842,\n",
       "  0.1899999976158142,\n",
       "  0.20000000298023224,\n",
       "  0.20000000298023224,\n",
       "  0.20000000298023224,\n",
       "  0.20000000298023224,\n",
       "  0.10000000149011612,\n",
       "  0.10000000149011612,\n",
       "  0.10000000149011612,\n",
       "  0.10000000149011612,\n",
       "  0.10000000149011612,\n",
       "  0.10000000149011612,\n",
       "  0.14499999582767487,\n",
       "  0.125,\n",
       "  0.14000000059604645,\n",
       "  0.14000000059604645,\n",
       "  0.15000000596046448,\n",
       "  0.11999999731779099,\n",
       "  0.12999999523162842,\n",
       "  0.11999999731779099,\n",
       "  0.11999999731779099,\n",
       "  0.10999999940395355,\n",
       "  0.11999999731779099,\n",
       "  0.11500000208616257,\n",
       "  0.125,\n",
       "  0.11500000208616257,\n",
       "  0.11999999731779099,\n",
       "  0.14000000059604645,\n",
       "  0.125,\n",
       "  0.2150000035762787,\n",
       "  0.25,\n",
       "  0.2549999952316284,\n",
       "  0.3149999976158142,\n",
       "  0.3199999928474426,\n",
       "  0.33500000834465027,\n",
       "  0.33500000834465027,\n",
       "  0.375,\n",
       "  0.4050000011920929,\n",
       "  0.41499999165534973,\n",
       "  0.4399999976158142,\n",
       "  0.4699999988079071,\n",
       "  0.49000000953674316,\n",
       "  0.48500001430511475,\n",
       "  0.5249999761581421,\n",
       "  0.5350000262260437,\n",
       "  0.5600000023841858,\n",
       "  0.5699999928474426,\n",
       "  0.574999988079071,\n",
       "  0.574999988079071,\n",
       "  0.6000000238418579,\n",
       "  0.625,\n",
       "  0.6150000095367432,\n",
       "  0.6299999952316284,\n",
       "  0.6299999952316284,\n",
       "  0.6349999904632568,\n",
       "  0.6650000214576721,\n",
       "  0.6700000166893005,\n",
       "  0.6600000262260437,\n",
       "  0.6899999976158142,\n",
       "  0.6899999976158142,\n",
       "  0.6949999928474426,\n",
       "  0.699999988079071,\n",
       "  0.6899999976158142,\n",
       "  0.6899999976158142,\n",
       "  0.7099999785423279,\n",
       "  0.6949999928474426,\n",
       "  0.6949999928474426],\n",
       " 'val_get_f1': [0.0,\n",
       "  0.0,\n",
       "  0.0,\n",
       "  0.0,\n",
       "  0.0,\n",
       "  0.0,\n",
       "  0.0,\n",
       "  0.0,\n",
       "  0.0,\n",
       "  0.0,\n",
       "  0.0,\n",
       "  0.0,\n",
       "  0.0,\n",
       "  0.0,\n",
       "  0.0,\n",
       "  0.0,\n",
       "  0.0,\n",
       "  0.0,\n",
       "  0.0,\n",
       "  0.0,\n",
       "  0.10493486374616623,\n",
       "  0.05342748388648033,\n",
       "  0.11895601451396942,\n",
       "  0.13077430427074432,\n",
       "  0.1342618763446808,\n",
       "  0.11877131462097168,\n",
       "  0.1045883521437645,\n",
       "  0.12181754410266876,\n",
       "  0.1184154599905014,\n",
       "  0.1351851373910904,\n",
       "  0.1535145342350006,\n",
       "  0.12516602873802185,\n",
       "  0.1571224331855774,\n",
       "  0.1902063637971878,\n",
       "  0.18910253047943115,\n",
       "  0.26473426818847656,\n",
       "  0.29105687141418457,\n",
       "  0.3083784580230713,\n",
       "  0.3230372667312622,\n",
       "  0.3476608097553253,\n",
       "  0.37727266550064087,\n",
       "  0.38739854097366333,\n",
       "  0.4431876540184021,\n",
       "  0.4557165503501892,\n",
       "  0.46618545055389404,\n",
       "  0.4713265597820282,\n",
       "  0.5204483270645142,\n",
       "  0.5097642540931702,\n",
       "  0.5453853607177734,\n",
       "  0.5330127477645874,\n",
       "  0.5632368922233582,\n",
       "  0.5544087886810303,\n",
       "  0.5928727388381958,\n",
       "  0.605934739112854,\n",
       "  0.6056784391403198,\n",
       "  0.6153351068496704,\n",
       "  0.6651597023010254,\n",
       "  0.6458523869514465,\n",
       "  0.6655859351158142,\n",
       "  0.6610572338104248,\n",
       "  0.6582232117652893,\n",
       "  0.6779897212982178,\n",
       "  0.6781657338142395,\n",
       "  0.6898504495620728,\n",
       "  0.6882268190383911,\n",
       "  0.6821058392524719,\n",
       "  0.7072120904922485,\n",
       "  0.7099606990814209,\n",
       "  0.6934480667114258,\n",
       "  0.7096171379089355]}"
      ]
     },
     "execution_count": 14,
     "metadata": {},
     "output_type": "execute_result"
    }
   ],
   "source": [
    "history.history"
   ]
  },
  {
   "cell_type": "code",
   "execution_count": 15,
   "metadata": {},
   "outputs": [
    {
     "data": {
      "text/plain": [
       "<Figure size 1440x1080 with 0 Axes>"
      ]
     },
     "metadata": {},
     "output_type": "display_data"
    },
    {
     "data": {
      "image/png": "[encoded data removed]",
      "text/plain": [
       "<Figure size 432x288 with 2 Axes>"
      ]
     },
     "metadata": {
      "needs_background": "light"
     },
     "output_type": "display_data"
    }
   ],
   "source": [
    "plot_history(history)"
   ]
  },
  {
   "cell_type": "code",
   "execution_count": 16,
   "metadata": {},
   "outputs": [
    {
     "name": "stdout",
     "output_type": "stream",
     "text": [
      "Validation Accuracy 0.7099999785423279\n"
     ]
    },
    {
     "data": {
      "image/png": "[encoded data removed]",
      "text/plain": [
       "<Figure size 864x432 with 1 Axes>"
      ]
     },
     "metadata": {
      "needs_background": "light"
     },
     "output_type": "display_data"
    }
   ],
   "source": [
    "plotValidate(history)"
   ]
  },
  {
   "cell_type": "markdown",
   "metadata": {},
   "source": [
    "# Prediction"
   ]
  },
  {
   "cell_type": "code",
   "execution_count": 17,
   "metadata": {},
   "outputs": [],
   "source": [
    "class_labels = ['blues',\n",
    " 'classical',\n",
    " 'country',\n",
    " 'disco',\n",
    " 'hiphop',\n",
    " 'jazz',               \n",
    " 'metal',\n",
    " 'pop',\n",
    " 'reggae',\n",
    " 'rock']"
   ]
  },
  {
   "cell_type": "code",
   "execution_count": 18,
   "metadata": {},
   "outputs": [],
   "source": [
    "def extract_relevant(s,t1,t2):\n",
    "  wav_file = os.path.join(f'C:/Users/dhruv/OneDrive/Desktop/',f'{s}')\n",
    "  wav = AudioSegment.from_wav(wav_file)\n",
    "  wav = wav[1000*t1:1000*t2]\n",
    "  wav.export(\"extracted.wav\",format='wav')"
   ]
  },
  {
   "cell_type": "code",
   "execution_count": 19,
   "metadata": {},
   "outputs": [],
   "source": [
    "def create_melspectrogram(wav_file):\n",
    "  y,sr = librosa.load(wav_file,duration=3)\n",
    "  mels = librosa.feature.melspectrogram(y=y,sr=sr)\n",
    "  \n",
    "  fig = plt.Figure()\n",
    "  canvas = FigureCanvas(fig)\n",
    "  p = plt.imshow(librosa.power_to_db(mels,ref=np.max))\n",
    "  plt.savefig('melspectrogram.png')"
   ]
  },
  {
   "cell_type": "code",
   "execution_count": 20,
   "metadata": {},
   "outputs": [],
   "source": [
    "def predict(image_data,model):\n",
    "\n",
    "  #image = image_data.resize((288,432))\n",
    "  image = img_to_array(image_data)\n",
    "\n",
    "  image = np.reshape(image,(1,288,432,4))\n",
    "\n",
    "  prediction = model.predict(image/255)\n",
    "\n",
    "  prediction = prediction.reshape((10,)) \n",
    "\n",
    "  class_label = np.argmax(prediction)\n",
    "\n",
    "  return class_label,prediction"
   ]
  },
  {
   "cell_type": "code",
   "execution_count": 24,
   "metadata": {},
   "outputs": [],
   "source": [
    "def show_output(songname):\n",
    "  extract_relevant(songname,0,100)\n",
    "  create_melspectrogram(\"extracted.wav\") \n",
    "  image_data = load_img('melspectrogram.png',color_mode='rgba',target_size=(288,432))\n",
    "\n",
    "  class_label,prediction = predict(image_data,model)\n",
    "\n",
    "  print(\"## The Genre of Song is \",class_labels[class_label])\n",
    "\n",
    "  prediction = prediction.reshape((10,)) \n",
    "  \n",
    "  color_data = [1,2,3,4,5,6,7,8,9,10]\n",
    "  my_cmap = cm.get_cmap('jet')\n",
    "  my_norm = Normalize(vmin=0, vmax=10)\n",
    "\n",
    "  fig,ax= plt.subplots(figsize=(6,4.5))\n",
    "  ax.bar(x=class_labels,height=prediction,\n",
    "  color=my_cmap(my_norm(color_data)))\n",
    "  plt.xticks(rotation=45)\n",
    "  ax.set_title(\"Probability Distribution Of The Given Song Over Different Genres\")\n",
    "  plt.show()"
   ]
  },
  {
   "cell_type": "code",
   "execution_count": 27,
   "metadata": {},
   "outputs": [
    {
     "name": "stdout",
     "output_type": "stream",
     "text": [
      "## The Genre of Song is  country\n"
     ]
    },
    {
     "data": {
      "image/png": "[encoded data removed]",
      "text/plain": [
       "<Figure size 432x288 with 1 Axes>"
      ]
     },
     "metadata": {
      "needs_background": "light"
     },
     "output_type": "display_data"
    },
    {
     "data": {
      "image/png": "[encoded data removed]",
      "text/plain": [
       "<Figure size 432x324 with 1 Axes>"
      ]
     },
     "metadata": {
      "needs_background": "light"
     },
     "output_type": "display_data"
    }
   ],
   "source": [
    "song =\"Taylor Swift-Love Story.wav\"\n",
    "show_output(song)"
   ]
  }
 ],
 "metadata": {
  "kernelspec": {
   "display_name": "Python 3",
   "language": "python",
   "name": "python3"
  },
  "language_info": {
   "codemirror_mode": {
    "name": "ipython",
    "version": 3
   },
   "file_extension": ".py",
   "mimetype": "text/x-python",
   "name": "python",
   "nbconvert_exporter": "python",
   "pygments_lexer": "ipython3",
   "version": "3.8.3"
  }
 },
 "nbformat": 4,
 "nbformat_minor": 4
}
